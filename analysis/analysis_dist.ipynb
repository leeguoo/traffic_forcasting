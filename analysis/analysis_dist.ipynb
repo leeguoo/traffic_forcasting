{
 "cells": [
  {
   "cell_type": "code",
   "execution_count": 1,
   "metadata": {
    "collapsed": false
   },
   "outputs": [
    {
     "name": "stdout",
     "output_type": "stream",
     "text": [
      "key_1.csv               sample_submission_1.csv train_1.csv\r\n"
     ]
    }
   ],
   "source": [
    "!ls ../../input/"
   ]
  },
  {
   "cell_type": "markdown",
   "metadata": {},
   "source": [
    "## Read data"
   ]
  },
  {
   "cell_type": "code",
   "execution_count": 26,
   "metadata": {
    "collapsed": false
   },
   "outputs": [
    {
     "data": {
      "text/html": [
       "<div>\n",
       "<table border=\"1\" class=\"dataframe\">\n",
       "  <thead>\n",
       "    <tr style=\"text-align: right;\">\n",
       "      <th></th>\n",
       "      <th>2015-07-01</th>\n",
       "      <th>2015-07-02</th>\n",
       "      <th>2015-07-03</th>\n",
       "      <th>2015-07-04</th>\n",
       "      <th>2015-07-05</th>\n",
       "      <th>2015-07-06</th>\n",
       "      <th>2015-07-07</th>\n",
       "      <th>2015-07-08</th>\n",
       "      <th>2015-07-09</th>\n",
       "      <th>2015-07-10</th>\n",
       "      <th>...</th>\n",
       "      <th>2016-12-22</th>\n",
       "      <th>2016-12-23</th>\n",
       "      <th>2016-12-24</th>\n",
       "      <th>2016-12-25</th>\n",
       "      <th>2016-12-26</th>\n",
       "      <th>2016-12-27</th>\n",
       "      <th>2016-12-28</th>\n",
       "      <th>2016-12-29</th>\n",
       "      <th>2016-12-30</th>\n",
       "      <th>2016-12-31</th>\n",
       "    </tr>\n",
       "    <tr>\n",
       "      <th>Page</th>\n",
       "      <th></th>\n",
       "      <th></th>\n",
       "      <th></th>\n",
       "      <th></th>\n",
       "      <th></th>\n",
       "      <th></th>\n",
       "      <th></th>\n",
       "      <th></th>\n",
       "      <th></th>\n",
       "      <th></th>\n",
       "      <th></th>\n",
       "      <th></th>\n",
       "      <th></th>\n",
       "      <th></th>\n",
       "      <th></th>\n",
       "      <th></th>\n",
       "      <th></th>\n",
       "      <th></th>\n",
       "      <th></th>\n",
       "      <th></th>\n",
       "      <th></th>\n",
       "    </tr>\n",
       "  </thead>\n",
       "  <tbody>\n",
       "    <tr>\n",
       "      <th>2NE1_zh.wikipedia.org_all-access_spider</th>\n",
       "      <td>18.0</td>\n",
       "      <td>11.0</td>\n",
       "      <td>5.0</td>\n",
       "      <td>13.0</td>\n",
       "      <td>14.0</td>\n",
       "      <td>9.0</td>\n",
       "      <td>9.0</td>\n",
       "      <td>22.0</td>\n",
       "      <td>26.0</td>\n",
       "      <td>24.0</td>\n",
       "      <td>...</td>\n",
       "      <td>32.0</td>\n",
       "      <td>63.0</td>\n",
       "      <td>15.0</td>\n",
       "      <td>26.0</td>\n",
       "      <td>14.0</td>\n",
       "      <td>20.0</td>\n",
       "      <td>22.0</td>\n",
       "      <td>19.0</td>\n",
       "      <td>18.0</td>\n",
       "      <td>20.0</td>\n",
       "    </tr>\n",
       "    <tr>\n",
       "      <th>2PM_zh.wikipedia.org_all-access_spider</th>\n",
       "      <td>11.0</td>\n",
       "      <td>14.0</td>\n",
       "      <td>15.0</td>\n",
       "      <td>18.0</td>\n",
       "      <td>11.0</td>\n",
       "      <td>13.0</td>\n",
       "      <td>22.0</td>\n",
       "      <td>11.0</td>\n",
       "      <td>10.0</td>\n",
       "      <td>4.0</td>\n",
       "      <td>...</td>\n",
       "      <td>17.0</td>\n",
       "      <td>42.0</td>\n",
       "      <td>28.0</td>\n",
       "      <td>15.0</td>\n",
       "      <td>9.0</td>\n",
       "      <td>30.0</td>\n",
       "      <td>52.0</td>\n",
       "      <td>45.0</td>\n",
       "      <td>26.0</td>\n",
       "      <td>20.0</td>\n",
       "    </tr>\n",
       "    <tr>\n",
       "      <th>3C_zh.wikipedia.org_all-access_spider</th>\n",
       "      <td>1.0</td>\n",
       "      <td>0.0</td>\n",
       "      <td>1.0</td>\n",
       "      <td>1.0</td>\n",
       "      <td>0.0</td>\n",
       "      <td>4.0</td>\n",
       "      <td>0.0</td>\n",
       "      <td>3.0</td>\n",
       "      <td>4.0</td>\n",
       "      <td>4.0</td>\n",
       "      <td>...</td>\n",
       "      <td>3.0</td>\n",
       "      <td>1.0</td>\n",
       "      <td>1.0</td>\n",
       "      <td>7.0</td>\n",
       "      <td>4.0</td>\n",
       "      <td>4.0</td>\n",
       "      <td>6.0</td>\n",
       "      <td>3.0</td>\n",
       "      <td>4.0</td>\n",
       "      <td>17.0</td>\n",
       "    </tr>\n",
       "    <tr>\n",
       "      <th>4minute_zh.wikipedia.org_all-access_spider</th>\n",
       "      <td>35.0</td>\n",
       "      <td>13.0</td>\n",
       "      <td>10.0</td>\n",
       "      <td>94.0</td>\n",
       "      <td>4.0</td>\n",
       "      <td>26.0</td>\n",
       "      <td>14.0</td>\n",
       "      <td>9.0</td>\n",
       "      <td>11.0</td>\n",
       "      <td>16.0</td>\n",
       "      <td>...</td>\n",
       "      <td>32.0</td>\n",
       "      <td>10.0</td>\n",
       "      <td>26.0</td>\n",
       "      <td>27.0</td>\n",
       "      <td>16.0</td>\n",
       "      <td>11.0</td>\n",
       "      <td>17.0</td>\n",
       "      <td>19.0</td>\n",
       "      <td>10.0</td>\n",
       "      <td>11.0</td>\n",
       "    </tr>\n",
       "    <tr>\n",
       "      <th>52_Hz_I_Love_You_zh.wikipedia.org_all-access_spider</th>\n",
       "      <td>NaN</td>\n",
       "      <td>NaN</td>\n",
       "      <td>NaN</td>\n",
       "      <td>NaN</td>\n",
       "      <td>NaN</td>\n",
       "      <td>NaN</td>\n",
       "      <td>NaN</td>\n",
       "      <td>NaN</td>\n",
       "      <td>NaN</td>\n",
       "      <td>NaN</td>\n",
       "      <td>...</td>\n",
       "      <td>48.0</td>\n",
       "      <td>9.0</td>\n",
       "      <td>25.0</td>\n",
       "      <td>13.0</td>\n",
       "      <td>3.0</td>\n",
       "      <td>11.0</td>\n",
       "      <td>27.0</td>\n",
       "      <td>13.0</td>\n",
       "      <td>36.0</td>\n",
       "      <td>10.0</td>\n",
       "    </tr>\n",
       "  </tbody>\n",
       "</table>\n",
       "<p>5 rows × 550 columns</p>\n",
       "</div>"
      ],
      "text/plain": [
       "                                                    2015-07-01  2015-07-02  \\\n",
       "Page                                                                         \n",
       "2NE1_zh.wikipedia.org_all-access_spider                   18.0        11.0   \n",
       "2PM_zh.wikipedia.org_all-access_spider                    11.0        14.0   \n",
       "3C_zh.wikipedia.org_all-access_spider                      1.0         0.0   \n",
       "4minute_zh.wikipedia.org_all-access_spider                35.0        13.0   \n",
       "52_Hz_I_Love_You_zh.wikipedia.org_all-access_sp...         NaN         NaN   \n",
       "\n",
       "                                                    2015-07-03  2015-07-04  \\\n",
       "Page                                                                         \n",
       "2NE1_zh.wikipedia.org_all-access_spider                    5.0        13.0   \n",
       "2PM_zh.wikipedia.org_all-access_spider                    15.0        18.0   \n",
       "3C_zh.wikipedia.org_all-access_spider                      1.0         1.0   \n",
       "4minute_zh.wikipedia.org_all-access_spider                10.0        94.0   \n",
       "52_Hz_I_Love_You_zh.wikipedia.org_all-access_sp...         NaN         NaN   \n",
       "\n",
       "                                                    2015-07-05  2015-07-06  \\\n",
       "Page                                                                         \n",
       "2NE1_zh.wikipedia.org_all-access_spider                   14.0         9.0   \n",
       "2PM_zh.wikipedia.org_all-access_spider                    11.0        13.0   \n",
       "3C_zh.wikipedia.org_all-access_spider                      0.0         4.0   \n",
       "4minute_zh.wikipedia.org_all-access_spider                 4.0        26.0   \n",
       "52_Hz_I_Love_You_zh.wikipedia.org_all-access_sp...         NaN         NaN   \n",
       "\n",
       "                                                    2015-07-07  2015-07-08  \\\n",
       "Page                                                                         \n",
       "2NE1_zh.wikipedia.org_all-access_spider                    9.0        22.0   \n",
       "2PM_zh.wikipedia.org_all-access_spider                    22.0        11.0   \n",
       "3C_zh.wikipedia.org_all-access_spider                      0.0         3.0   \n",
       "4minute_zh.wikipedia.org_all-access_spider                14.0         9.0   \n",
       "52_Hz_I_Love_You_zh.wikipedia.org_all-access_sp...         NaN         NaN   \n",
       "\n",
       "                                                    2015-07-09  2015-07-10  \\\n",
       "Page                                                                         \n",
       "2NE1_zh.wikipedia.org_all-access_spider                   26.0        24.0   \n",
       "2PM_zh.wikipedia.org_all-access_spider                    10.0         4.0   \n",
       "3C_zh.wikipedia.org_all-access_spider                      4.0         4.0   \n",
       "4minute_zh.wikipedia.org_all-access_spider                11.0        16.0   \n",
       "52_Hz_I_Love_You_zh.wikipedia.org_all-access_sp...         NaN         NaN   \n",
       "\n",
       "                                                       ...      2016-12-22  \\\n",
       "Page                                                   ...                   \n",
       "2NE1_zh.wikipedia.org_all-access_spider                ...            32.0   \n",
       "2PM_zh.wikipedia.org_all-access_spider                 ...            17.0   \n",
       "3C_zh.wikipedia.org_all-access_spider                  ...             3.0   \n",
       "4minute_zh.wikipedia.org_all-access_spider             ...            32.0   \n",
       "52_Hz_I_Love_You_zh.wikipedia.org_all-access_sp...     ...            48.0   \n",
       "\n",
       "                                                    2016-12-23  2016-12-24  \\\n",
       "Page                                                                         \n",
       "2NE1_zh.wikipedia.org_all-access_spider                   63.0        15.0   \n",
       "2PM_zh.wikipedia.org_all-access_spider                    42.0        28.0   \n",
       "3C_zh.wikipedia.org_all-access_spider                      1.0         1.0   \n",
       "4minute_zh.wikipedia.org_all-access_spider                10.0        26.0   \n",
       "52_Hz_I_Love_You_zh.wikipedia.org_all-access_sp...         9.0        25.0   \n",
       "\n",
       "                                                    2016-12-25  2016-12-26  \\\n",
       "Page                                                                         \n",
       "2NE1_zh.wikipedia.org_all-access_spider                   26.0        14.0   \n",
       "2PM_zh.wikipedia.org_all-access_spider                    15.0         9.0   \n",
       "3C_zh.wikipedia.org_all-access_spider                      7.0         4.0   \n",
       "4minute_zh.wikipedia.org_all-access_spider                27.0        16.0   \n",
       "52_Hz_I_Love_You_zh.wikipedia.org_all-access_sp...        13.0         3.0   \n",
       "\n",
       "                                                    2016-12-27  2016-12-28  \\\n",
       "Page                                                                         \n",
       "2NE1_zh.wikipedia.org_all-access_spider                   20.0        22.0   \n",
       "2PM_zh.wikipedia.org_all-access_spider                    30.0        52.0   \n",
       "3C_zh.wikipedia.org_all-access_spider                      4.0         6.0   \n",
       "4minute_zh.wikipedia.org_all-access_spider                11.0        17.0   \n",
       "52_Hz_I_Love_You_zh.wikipedia.org_all-access_sp...        11.0        27.0   \n",
       "\n",
       "                                                    2016-12-29  2016-12-30  \\\n",
       "Page                                                                         \n",
       "2NE1_zh.wikipedia.org_all-access_spider                   19.0        18.0   \n",
       "2PM_zh.wikipedia.org_all-access_spider                    45.0        26.0   \n",
       "3C_zh.wikipedia.org_all-access_spider                      3.0         4.0   \n",
       "4minute_zh.wikipedia.org_all-access_spider                19.0        10.0   \n",
       "52_Hz_I_Love_You_zh.wikipedia.org_all-access_sp...        13.0        36.0   \n",
       "\n",
       "                                                    2016-12-31  \n",
       "Page                                                            \n",
       "2NE1_zh.wikipedia.org_all-access_spider                   20.0  \n",
       "2PM_zh.wikipedia.org_all-access_spider                    20.0  \n",
       "3C_zh.wikipedia.org_all-access_spider                     17.0  \n",
       "4minute_zh.wikipedia.org_all-access_spider                11.0  \n",
       "52_Hz_I_Love_You_zh.wikipedia.org_all-access_sp...        10.0  \n",
       "\n",
       "[5 rows x 550 columns]"
      ]
     },
     "execution_count": 26,
     "metadata": {},
     "output_type": "execute_result"
    }
   ],
   "source": [
    "import pandas as pd\n",
    "\n",
    "df = pd.read_csv('../../input/train_1.csv',index_col=\"Page\")\n",
    "df.head()"
   ]
  },
  {
   "cell_type": "markdown",
   "metadata": {},
   "source": [
    "## Stack data"
   ]
  },
  {
   "cell_type": "code",
   "execution_count": 27,
   "metadata": {
    "collapsed": false
   },
   "outputs": [
    {
     "data": {
      "text/plain": [
       "Page                                               \n",
       "2NE1_zh.wikipedia.org_all-access_spider  2015-07-01    18.0\n",
       "                                         2015-07-02    11.0\n",
       "                                         2015-07-03     5.0\n",
       "                                         2015-07-04    13.0\n",
       "                                         2015-07-05    14.0\n",
       "dtype: float64"
      ]
     },
     "execution_count": 27,
     "metadata": {},
     "output_type": "execute_result"
    }
   ],
   "source": [
    "df.stack().head()"
   ]
  },
  {
   "cell_type": "markdown",
   "metadata": {},
   "source": [
    "## Web traffic is highly skewed"
   ]
  },
  {
   "cell_type": "code",
   "execution_count": 65,
   "metadata": {
    "collapsed": false
   },
   "outputs": [],
   "source": [
    "%matplotlib inline \n",
    "import matplotlib.pylab as plt\n",
    "import numpy as np\n",
    "\n",
    "x=np.array(df.stack())\n",
    "# plt.hist(x,bins=1000)\n",
    "# plt.xlim([0,10000])"
   ]
  },
  {
   "cell_type": "markdown",
   "metadata": {},
   "source": [
    "## Remove skewness using log1p"
   ]
  },
  {
   "cell_type": "code",
   "execution_count": 67,
   "metadata": {
    "collapsed": false
   },
   "outputs": [
    {
     "data": {
      "text/plain": [
       "(0, 20)"
      ]
     },
     "execution_count": 67,
     "metadata": {},
     "output_type": "execute_result"
    },
    {
     "data": {
      "image/png": "[encoded data removed]",
      "text/plain": [
       "<matplotlib.figure.Figure at 0x11f2f2c10>"
      ]
     },
     "metadata": {},
     "output_type": "display_data"
    }
   ],
   "source": [
    "plt.hist(np.log1p(x),bins=100)\n",
    "plt.xlim([0,20])"
   ]
  },
  {
   "cell_type": "code",
   "execution_count": 30,
   "metadata": {
    "collapsed": false
   },
   "outputs": [
    {
     "name": "stdout",
     "output_type": "stream",
     "text": [
      "349.829362185\n",
      "-0.284839122537\n",
      "-0.0958702422246\n"
     ]
    }
   ],
   "source": [
    "from scipy.stats import skew\n",
    "print skew(x)\n",
    "print skew(np.log(x+0.2))\n",
    "print skew(np.log1p(x))"
   ]
  },
  {
   "cell_type": "markdown",
   "metadata": {},
   "source": [
    "## Multiple peaks in the distribution"
   ]
  },
  {
   "cell_type": "markdown",
   "metadata": {},
   "source": [
    "### web traffic median"
   ]
  },
  {
   "cell_type": "code",
   "execution_count": 43,
   "metadata": {
    "collapsed": false
   },
   "outputs": [],
   "source": [
    "xmedian = np.array(df.median(axis=1).fillna(0))"
   ]
  },
  {
   "cell_type": "code",
   "execution_count": 60,
   "metadata": {
    "collapsed": false
   },
   "outputs": [
    {
     "data": {
      "text/plain": [
       "(0, 20)"
      ]
     },
     "execution_count": 60,
     "metadata": {},
     "output_type": "execute_result"
    },
    {
     "data": {
      "image/png": "[encoded data removed]",
      "text/plain": [
       "<matplotlib.figure.Figure at 0x1247a46d0>"
      ]
     },
     "metadata": {},
     "output_type": "display_data"
    }
   ],
   "source": [
    "plt.hist(np.log1p(xmedian),bins=100)\n",
    "plt.xlim([0,20])"
   ]
  },
  {
   "cell_type": "markdown",
   "metadata": {},
   "source": [
    "### web traffic mean"
   ]
  },
  {
   "cell_type": "code",
   "execution_count": 48,
   "metadata": {
    "collapsed": true
   },
   "outputs": [],
   "source": [
    "xmean = np.array(df.mean(axis=1).fillna(0))"
   ]
  },
  {
   "cell_type": "code",
   "execution_count": 57,
   "metadata": {
    "collapsed": false
   },
   "outputs": [
    {
     "data": {
      "text/plain": [
       "(0, 20)"
      ]
     },
     "execution_count": 57,
     "metadata": {},
     "output_type": "execute_result"
    },
    {
     "data": {
      "image/png": "[encoded data removed]",
      "text/plain": [
       "<matplotlib.figure.Figure at 0x1265edbd0>"
      ]
     },
     "metadata": {},
     "output_type": "display_data"
    }
   ],
   "source": [
    "plt.hist(np.log1p(xmean),bins=1000)\n",
    "plt.xlim([0,20])"
   ]
  },
  {
   "cell_type": "markdown",
   "metadata": {},
   "source": [
    "### web traffic max"
   ]
  },
  {
   "cell_type": "code",
   "execution_count": 50,
   "metadata": {
    "collapsed": true
   },
   "outputs": [],
   "source": [
    "xmax = np.array(df.max(axis=1).fillna(0))"
   ]
  },
  {
   "cell_type": "code",
   "execution_count": 55,
   "metadata": {
    "collapsed": false
   },
   "outputs": [
    {
     "data": {
      "text/plain": [
       "(0, 20)"
      ]
     },
     "execution_count": 55,
     "metadata": {},
     "output_type": "execute_result"
    },
    {
     "data": {
      "image/png": "[encoded data removed]",
      "text/plain": [
       "<matplotlib.figure.Figure at 0x130ee18d0>"
      ]
     },
     "metadata": {},
     "output_type": "display_data"
    }
   ],
   "source": [
    "plt.hist(np.log1p(xmax),bins=2000)\n",
    "plt.xlim([0,20])"
   ]
  },
  {
   "cell_type": "markdown",
   "metadata": {},
   "source": [
    "### web traffic min"
   ]
  },
  {
   "cell_type": "code",
   "execution_count": 53,
   "metadata": {
    "collapsed": true
   },
   "outputs": [],
   "source": [
    "xmin = np.array(df.min(axis=1).fillna(0))"
   ]
  },
  {
   "cell_type": "code",
   "execution_count": 59,
   "metadata": {
    "collapsed": false
   },
   "outputs": [
    {
     "data": {
      "text/plain": [
       "(0, 20)"
      ]
     },
     "execution_count": 59,
     "metadata": {},
     "output_type": "execute_result"
    },
    {
     "data": {
      "image/png": "[encoded data removed]",
      "text/plain": [
       "<matplotlib.figure.Figure at 0x1243a4150>"
      ]
     },
     "metadata": {},
     "output_type": "display_data"
    }
   ],
   "source": [
    "plt.hist(np.log1p(xmin),bins=200)\n",
    "plt.xlim([0,20])"
   ]
  },
  {
   "cell_type": "markdown",
   "metadata": {},
   "source": [
    "## Why two peaks"
   ]
  },
  {
   "cell_type": "code",
   "execution_count": 73,
   "metadata": {
    "collapsed": false
   },
   "outputs": [],
   "source": [
    "xmeandf = df.mean(axis=1).fillna(0).map(np.log1p)"
   ]
  },
  {
   "cell_type": "markdown",
   "metadata": {},
   "source": [
    "### find boundry according to std"
   ]
  },
  {
   "cell_type": "code",
   "execution_count": 93,
   "metadata": {
    "collapsed": false
   },
   "outputs": [
    {
     "name": "stdout",
     "output_type": "stream",
     "text": [
      "3.7\n"
     ]
    }
   ],
   "source": [
    "ths = np.linspace(2,5,301)\n",
    "stds = []\n",
    "stdmin = 100\n",
    "thmin = 0\n",
    "for i in ths:\n",
    "    std = xmeandf[xmeandf<i].std()+xmeandf[xmeandf>=i].std()\n",
    "    if std<stdmin:\n",
    "        stdmin = std\n",
    "        thmin = i\n",
    "    stds.append(std)\n",
    "print thmin"
   ]
  },
  {
   "cell_type": "code",
   "execution_count": 95,
   "metadata": {
    "collapsed": false
   },
   "outputs": [
    {
     "data": {
      "text/plain": [
       "[<matplotlib.lines.Line2D at 0x11f4d3d90>]"
      ]
     },
     "execution_count": 95,
     "metadata": {},
     "output_type": "execute_result"
    },
    {
     "data": {
      "image/png": "[encoded data removed]",
      "text/plain": [
       "<matplotlib.figure.Figure at 0x1242f2710>"
      ]
     },
     "metadata": {},
     "output_type": "display_data"
    }
   ],
   "source": [
    "plt.plot(ths,stds)"
   ]
  },
  {
   "cell_type": "markdown",
   "metadata": {},
   "source": [
    "### agent and access"
   ]
  },
  {
   "cell_type": "code",
   "execution_count": 227,
   "metadata": {
    "collapsed": false
   },
   "outputs": [
    {
     "data": {
      "text/plain": [
       "Page\n",
       "2NE1_zh.wikipedia.org_all-access_spider                3.124845\n",
       "2PM_zh.wikipedia.org_all-access_spider                 3.273088\n",
       "3C_zh.wikipedia.org_all-access_spider                  1.825136\n",
       "4minute_zh.wikipedia.org_all-access_spider             2.897317\n",
       "52_Hz_I_Love_You_zh.wikipedia.org_all-access_spider    2.422853\n",
       "dtype: float64"
      ]
     },
     "execution_count": 227,
     "metadata": {},
     "output_type": "execute_result"
    }
   ],
   "source": [
    "xmeandf.head()"
   ]
  },
  {
   "cell_type": "code",
   "execution_count": 189,
   "metadata": {
    "collapsed": false
   },
   "outputs": [],
   "source": [
    "data = pd.DataFrame()\n",
    "data['access']=xmeandf.index.map(lambda x: x.split(\"_\")[-2])\n",
    "data['agent']=xmeandf.index.map(lambda x: x.split(\"_\")[-1])\n",
    "data['target']=list(1*(xmeandf>=3.7))"
   ]
  },
  {
   "cell_type": "code",
   "execution_count": 193,
   "metadata": {
    "collapsed": false
   },
   "outputs": [
    {
     "data": {
      "text/plain": [
       "all-agents    110150\n",
       "spider         34913\n",
       "Name: agent, dtype: int64"
      ]
     },
     "execution_count": 193,
     "metadata": {},
     "output_type": "execute_result"
    }
   ],
   "source": [
    "data.agent.value_counts()"
   ]
  },
  {
   "cell_type": "code",
   "execution_count": 198,
   "metadata": {
    "collapsed": false
   },
   "outputs": [
    {
     "data": {
      "text/plain": [
       "all-access    74315\n",
       "mobile-web    35939\n",
       "desktop       34809\n",
       "Name: access, dtype: int64"
      ]
     },
     "execution_count": 198,
     "metadata": {},
     "output_type": "execute_result"
    }
   ],
   "source": [
    "data.access.value_counts()"
   ]
  },
  {
   "cell_type": "markdown",
   "metadata": {},
   "source": [
    "### media and page"
   ]
  },
  {
   "cell_type": "code",
   "execution_count": 236,
   "metadata": {
    "collapsed": true
   },
   "outputs": [],
   "source": [
    "def getLang(x):\n",
    "    if '.wikipedia.org' in x.lower():\n",
    "        return x.lower().split(\".wikipedia.org\")[0].split(\"_\")[-1]\n",
    "    else:\n",
    "        return \"media\"\n",
    "        \n",
    "data['lang']=xmeandf.index.map(getLang)"
   ]
  },
  {
   "cell_type": "code",
   "execution_count": 237,
   "metadata": {
    "collapsed": false
   },
   "outputs": [
    {
     "data": {
      "text/plain": [
       "en       24108\n",
       "ja       20431\n",
       "de       18547\n",
       "media    17855\n",
       "fr       17802\n",
       "zh       17229\n",
       "ru       15022\n",
       "es       14069\n",
       "Name: lang, dtype: int64"
      ]
     },
     "execution_count": 237,
     "metadata": {},
     "output_type": "execute_result"
    }
   ],
   "source": [
    "data.lang.value_counts()"
   ]
  },
  {
   "cell_type": "markdown",
   "metadata": {},
   "source": [
    "### random forest"
   ]
  },
  {
   "cell_type": "code",
   "execution_count": 263,
   "metadata": {
    "collapsed": false
   },
   "outputs": [],
   "source": [
    "X = pd.DataFrame()\n",
    "X = X.merge(pd.get_dummies(data.access,prefix='access'),how='right',left_index=True,right_index=True)\n",
    "X = X.merge(pd.get_dummies(data.agent,drop_first=True,prefix='agent'),how='right',left_index=True,right_index=True)\n",
    "X = X.merge(pd.get_dummies(data.lang,prefix='lang'),how='right',left_index=True,right_index=True)\n",
    "\n",
    "y = data.target"
   ]
  },
  {
   "cell_type": "code",
   "execution_count": 264,
   "metadata": {
    "collapsed": false
   },
   "outputs": [
    {
     "data": {
      "text/plain": [
       "RandomForestClassifier(bootstrap=True, class_weight=None, criterion='gini',\n",
       "            max_depth=None, max_features='auto', max_leaf_nodes=None,\n",
       "            min_impurity_split=1e-07, min_samples_leaf=1,\n",
       "            min_samples_split=2, min_weight_fraction_leaf=0.0,\n",
       "            n_estimators=30, n_jobs=1, oob_score=False, random_state=None,\n",
       "            verbose=0, warm_start=False)"
      ]
     },
     "execution_count": 264,
     "metadata": {},
     "output_type": "execute_result"
    }
   ],
   "source": [
    "from sklearn.ensemble import RandomForestClassifier\n",
    "rfc = RandomForestClassifier(30)\n",
    "rfc.fit(X,y)"
   ]
  },
  {
   "cell_type": "code",
   "execution_count": 265,
   "metadata": {
    "collapsed": false
   },
   "outputs": [],
   "source": [
    "impts = zip(*sorted(zip(list(X.columns.values),rfc.feature_importances_),key=lambda x: x[-1]))"
   ]
  },
  {
   "cell_type": "code",
   "execution_count": 266,
   "metadata": {
    "collapsed": false
   },
   "outputs": [
    {
     "data": {
      "text/plain": [
       "([<matplotlib.axis.YTick at 0x140148890>,\n",
       "  <matplotlib.axis.YTick at 0x13f9ccc50>,\n",
       "  <matplotlib.axis.YTick at 0x140151990>,\n",
       "  <matplotlib.axis.YTick at 0x1401f40d0>,\n",
       "  <matplotlib.axis.YTick at 0x1401f47d0>,\n",
       "  <matplotlib.axis.YTick at 0x1401f4ed0>,\n",
       "  <matplotlib.axis.YTick at 0x1401fe610>,\n",
       "  <matplotlib.axis.YTick at 0x1401fed10>,\n",
       "  <matplotlib.axis.YTick at 0x14020a450>,\n",
       "  <matplotlib.axis.YTick at 0x14020ab50>,\n",
       "  <matplotlib.axis.YTick at 0x140214290>,\n",
       "  <matplotlib.axis.YTick at 0x140214990>],\n",
       " <a list of 12 Text yticklabel objects>)"
      ]
     },
     "execution_count": 266,
     "metadata": {},
     "output_type": "execute_result"
    },
    {
     "data": {
      "image/png": "[encoded data removed]",
      "text/plain": [
       "<matplotlib.figure.Figure at 0x140151bd0>"
      ]
     },
     "metadata": {},
     "output_type": "display_data"
    }
   ],
   "source": [
    "plt.barh(range(len(impts[1])),impts[1])\n",
    "plt.yticks(range(len(impts[0])),impts[0])"
   ]
  },
  {
   "cell_type": "code",
   "execution_count": 270,
   "metadata": {
    "collapsed": false
   },
   "outputs": [
    {
     "name": "stdout",
     "output_type": "stream",
     "text": [
      "8134\n",
      "97748\n",
      "105882\n"
     ]
    },
    {
     "name": "stderr",
     "output_type": "stream",
     "text": [
      "/Users/guoli/anaconda2/lib/python2.7/site-packages/ipykernel/__main__.py:1: UserWarning: Boolean Series key will be reindexed to match DataFrame index.\n",
      "  if __name__ == '__main__':\n",
      "/Users/guoli/anaconda2/lib/python2.7/site-packages/ipykernel/__main__.py:2: UserWarning: Boolean Series key will be reindexed to match DataFrame index.\n",
      "  from ipykernel import kernelapp as app\n"
     ]
    }
   ],
   "source": [
    "print len(X[y==1][X.agent_spider==1])\n",
    "print len(X[y==1][X.agent_spider==0])\n",
    "print len(X[y==1])"
   ]
  },
  {
   "cell_type": "code",
   "execution_count": 271,
   "metadata": {
    "collapsed": false
   },
   "outputs": [
    {
     "name": "stdout",
     "output_type": "stream",
     "text": [
      "             precision    recall  f1-score   support\n",
      "\n",
      "          0       0.91      0.69      0.79     39181\n",
      "          1       0.90      0.97      0.93    105882\n",
      "\n",
      "avg / total       0.90      0.90      0.89    145063\n",
      "\n"
     ]
    }
   ],
   "source": [
    "from sklearn.metrics import classification_report\n",
    "\n",
    "print classification_report(y, rfc.predict(X))"
   ]
  },
  {
   "cell_type": "code",
   "execution_count": null,
   "metadata": {
    "collapsed": true
   },
   "outputs": [],
   "source": []
  }
 ],
 "metadata": {
  "kernelspec": {
   "display_name": "Python 2",
   "language": "python",
   "name": "python2"
  },
  "language_info": {
   "codemirror_mode": {
    "name": "ipython",
    "version": 2
   },
   "file_extension": ".py",
   "mimetype": "text/x-python",
   "name": "python",
   "nbconvert_exporter": "python",
   "pygments_lexer": "ipython2",
   "version": "2.7.13"
  }
 },
 "nbformat": 4,
 "nbformat_minor": 2
}
