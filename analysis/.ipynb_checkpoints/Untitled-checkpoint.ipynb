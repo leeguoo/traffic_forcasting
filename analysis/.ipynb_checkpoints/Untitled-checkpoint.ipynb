{
 "cells": [
  {
   "cell_type": "code",
   "execution_count": 22,
   "metadata": {
    "collapsed": false
   },
   "outputs": [
    {
     "data": {
      "text/html": [
       "<div>\n",
       "<table border=\"1\" class=\"dataframe\">\n",
       "  <thead>\n",
       "    <tr style=\"text-align: right;\">\n",
       "      <th></th>\n",
       "      <th>2015-07-01</th>\n",
       "      <th>2015-07-02</th>\n",
       "      <th>2015-07-03</th>\n",
       "      <th>2015-07-04</th>\n",
       "      <th>2015-07-05</th>\n",
       "      <th>2015-07-06</th>\n",
       "      <th>2015-07-07</th>\n",
       "      <th>2015-07-08</th>\n",
       "      <th>2015-07-09</th>\n",
       "      <th>2015-07-10</th>\n",
       "      <th>...</th>\n",
       "      <th>2016-12-22</th>\n",
       "      <th>2016-12-23</th>\n",
       "      <th>2016-12-24</th>\n",
       "      <th>2016-12-25</th>\n",
       "      <th>2016-12-26</th>\n",
       "      <th>2016-12-27</th>\n",
       "      <th>2016-12-28</th>\n",
       "      <th>2016-12-29</th>\n",
       "      <th>2016-12-30</th>\n",
       "      <th>2016-12-31</th>\n",
       "    </tr>\n",
       "    <tr>\n",
       "      <th>Page</th>\n",
       "      <th></th>\n",
       "      <th></th>\n",
       "      <th></th>\n",
       "      <th></th>\n",
       "      <th></th>\n",
       "      <th></th>\n",
       "      <th></th>\n",
       "      <th></th>\n",
       "      <th></th>\n",
       "      <th></th>\n",
       "      <th></th>\n",
       "      <th></th>\n",
       "      <th></th>\n",
       "      <th></th>\n",
       "      <th></th>\n",
       "      <th></th>\n",
       "      <th></th>\n",
       "      <th></th>\n",
       "      <th></th>\n",
       "      <th></th>\n",
       "      <th></th>\n",
       "    </tr>\n",
       "  </thead>\n",
       "  <tbody>\n",
       "    <tr>\n",
       "      <th>2NE1_zh.wikipedia.org_all-access_spider</th>\n",
       "      <td>18.0</td>\n",
       "      <td>11.0</td>\n",
       "      <td>5.0</td>\n",
       "      <td>13.0</td>\n",
       "      <td>14.0</td>\n",
       "      <td>9.0</td>\n",
       "      <td>9.0</td>\n",
       "      <td>22.0</td>\n",
       "      <td>26.0</td>\n",
       "      <td>24.0</td>\n",
       "      <td>...</td>\n",
       "      <td>32.0</td>\n",
       "      <td>63.0</td>\n",
       "      <td>15.0</td>\n",
       "      <td>26.0</td>\n",
       "      <td>14.0</td>\n",
       "      <td>20.0</td>\n",
       "      <td>22.0</td>\n",
       "      <td>19.0</td>\n",
       "      <td>18.0</td>\n",
       "      <td>20.0</td>\n",
       "    </tr>\n",
       "    <tr>\n",
       "      <th>2PM_zh.wikipedia.org_all-access_spider</th>\n",
       "      <td>11.0</td>\n",
       "      <td>14.0</td>\n",
       "      <td>15.0</td>\n",
       "      <td>18.0</td>\n",
       "      <td>11.0</td>\n",
       "      <td>13.0</td>\n",
       "      <td>22.0</td>\n",
       "      <td>11.0</td>\n",
       "      <td>10.0</td>\n",
       "      <td>4.0</td>\n",
       "      <td>...</td>\n",
       "      <td>17.0</td>\n",
       "      <td>42.0</td>\n",
       "      <td>28.0</td>\n",
       "      <td>15.0</td>\n",
       "      <td>9.0</td>\n",
       "      <td>30.0</td>\n",
       "      <td>52.0</td>\n",
       "      <td>45.0</td>\n",
       "      <td>26.0</td>\n",
       "      <td>20.0</td>\n",
       "    </tr>\n",
       "    <tr>\n",
       "      <th>3C_zh.wikipedia.org_all-access_spider</th>\n",
       "      <td>1.0</td>\n",
       "      <td>0.0</td>\n",
       "      <td>1.0</td>\n",
       "      <td>1.0</td>\n",
       "      <td>0.0</td>\n",
       "      <td>4.0</td>\n",
       "      <td>0.0</td>\n",
       "      <td>3.0</td>\n",
       "      <td>4.0</td>\n",
       "      <td>4.0</td>\n",
       "      <td>...</td>\n",
       "      <td>3.0</td>\n",
       "      <td>1.0</td>\n",
       "      <td>1.0</td>\n",
       "      <td>7.0</td>\n",
       "      <td>4.0</td>\n",
       "      <td>4.0</td>\n",
       "      <td>6.0</td>\n",
       "      <td>3.0</td>\n",
       "      <td>4.0</td>\n",
       "      <td>17.0</td>\n",
       "    </tr>\n",
       "    <tr>\n",
       "      <th>4minute_zh.wikipedia.org_all-access_spider</th>\n",
       "      <td>35.0</td>\n",
       "      <td>13.0</td>\n",
       "      <td>10.0</td>\n",
       "      <td>94.0</td>\n",
       "      <td>4.0</td>\n",
       "      <td>26.0</td>\n",
       "      <td>14.0</td>\n",
       "      <td>9.0</td>\n",
       "      <td>11.0</td>\n",
       "      <td>16.0</td>\n",
       "      <td>...</td>\n",
       "      <td>32.0</td>\n",
       "      <td>10.0</td>\n",
       "      <td>26.0</td>\n",
       "      <td>27.0</td>\n",
       "      <td>16.0</td>\n",
       "      <td>11.0</td>\n",
       "      <td>17.0</td>\n",
       "      <td>19.0</td>\n",
       "      <td>10.0</td>\n",
       "      <td>11.0</td>\n",
       "    </tr>\n",
       "    <tr>\n",
       "      <th>52_Hz_I_Love_You_zh.wikipedia.org_all-access_spider</th>\n",
       "      <td>NaN</td>\n",
       "      <td>NaN</td>\n",
       "      <td>NaN</td>\n",
       "      <td>NaN</td>\n",
       "      <td>NaN</td>\n",
       "      <td>NaN</td>\n",
       "      <td>NaN</td>\n",
       "      <td>NaN</td>\n",
       "      <td>NaN</td>\n",
       "      <td>NaN</td>\n",
       "      <td>...</td>\n",
       "      <td>48.0</td>\n",
       "      <td>9.0</td>\n",
       "      <td>25.0</td>\n",
       "      <td>13.0</td>\n",
       "      <td>3.0</td>\n",
       "      <td>11.0</td>\n",
       "      <td>27.0</td>\n",
       "      <td>13.0</td>\n",
       "      <td>36.0</td>\n",
       "      <td>10.0</td>\n",
       "    </tr>\n",
       "  </tbody>\n",
       "</table>\n",
       "<p>5 rows × 550 columns</p>\n",
       "</div>"
      ],
      "text/plain": [
       "                                                    2015-07-01  2015-07-02  \\\n",
       "Page                                                                         \n",
       "2NE1_zh.wikipedia.org_all-access_spider                   18.0        11.0   \n",
       "2PM_zh.wikipedia.org_all-access_spider                    11.0        14.0   \n",
       "3C_zh.wikipedia.org_all-access_spider                      1.0         0.0   \n",
       "4minute_zh.wikipedia.org_all-access_spider                35.0        13.0   \n",
       "52_Hz_I_Love_You_zh.wikipedia.org_all-access_sp...         NaN         NaN   \n",
       "\n",
       "                                                    2015-07-03  2015-07-04  \\\n",
       "Page                                                                         \n",
       "2NE1_zh.wikipedia.org_all-access_spider                    5.0        13.0   \n",
       "2PM_zh.wikipedia.org_all-access_spider                    15.0        18.0   \n",
       "3C_zh.wikipedia.org_all-access_spider                      1.0         1.0   \n",
       "4minute_zh.wikipedia.org_all-access_spider                10.0        94.0   \n",
       "52_Hz_I_Love_You_zh.wikipedia.org_all-access_sp...         NaN         NaN   \n",
       "\n",
       "                                                    2015-07-05  2015-07-06  \\\n",
       "Page                                                                         \n",
       "2NE1_zh.wikipedia.org_all-access_spider                   14.0         9.0   \n",
       "2PM_zh.wikipedia.org_all-access_spider                    11.0        13.0   \n",
       "3C_zh.wikipedia.org_all-access_spider                      0.0         4.0   \n",
       "4minute_zh.wikipedia.org_all-access_spider                 4.0        26.0   \n",
       "52_Hz_I_Love_You_zh.wikipedia.org_all-access_sp...         NaN         NaN   \n",
       "\n",
       "                                                    2015-07-07  2015-07-08  \\\n",
       "Page                                                                         \n",
       "2NE1_zh.wikipedia.org_all-access_spider                    9.0        22.0   \n",
       "2PM_zh.wikipedia.org_all-access_spider                    22.0        11.0   \n",
       "3C_zh.wikipedia.org_all-access_spider                      0.0         3.0   \n",
       "4minute_zh.wikipedia.org_all-access_spider                14.0         9.0   \n",
       "52_Hz_I_Love_You_zh.wikipedia.org_all-access_sp...         NaN         NaN   \n",
       "\n",
       "                                                    2015-07-09  2015-07-10  \\\n",
       "Page                                                                         \n",
       "2NE1_zh.wikipedia.org_all-access_spider                   26.0        24.0   \n",
       "2PM_zh.wikipedia.org_all-access_spider                    10.0         4.0   \n",
       "3C_zh.wikipedia.org_all-access_spider                      4.0         4.0   \n",
       "4minute_zh.wikipedia.org_all-access_spider                11.0        16.0   \n",
       "52_Hz_I_Love_You_zh.wikipedia.org_all-access_sp...         NaN         NaN   \n",
       "\n",
       "                                                       ...      2016-12-22  \\\n",
       "Page                                                   ...                   \n",
       "2NE1_zh.wikipedia.org_all-access_spider                ...            32.0   \n",
       "2PM_zh.wikipedia.org_all-access_spider                 ...            17.0   \n",
       "3C_zh.wikipedia.org_all-access_spider                  ...             3.0   \n",
       "4minute_zh.wikipedia.org_all-access_spider             ...            32.0   \n",
       "52_Hz_I_Love_You_zh.wikipedia.org_all-access_sp...     ...            48.0   \n",
       "\n",
       "                                                    2016-12-23  2016-12-24  \\\n",
       "Page                                                                         \n",
       "2NE1_zh.wikipedia.org_all-access_spider                   63.0        15.0   \n",
       "2PM_zh.wikipedia.org_all-access_spider                    42.0        28.0   \n",
       "3C_zh.wikipedia.org_all-access_spider                      1.0         1.0   \n",
       "4minute_zh.wikipedia.org_all-access_spider                10.0        26.0   \n",
       "52_Hz_I_Love_You_zh.wikipedia.org_all-access_sp...         9.0        25.0   \n",
       "\n",
       "                                                    2016-12-25  2016-12-26  \\\n",
       "Page                                                                         \n",
       "2NE1_zh.wikipedia.org_all-access_spider                   26.0        14.0   \n",
       "2PM_zh.wikipedia.org_all-access_spider                    15.0         9.0   \n",
       "3C_zh.wikipedia.org_all-access_spider                      7.0         4.0   \n",
       "4minute_zh.wikipedia.org_all-access_spider                27.0        16.0   \n",
       "52_Hz_I_Love_You_zh.wikipedia.org_all-access_sp...        13.0         3.0   \n",
       "\n",
       "                                                    2016-12-27  2016-12-28  \\\n",
       "Page                                                                         \n",
       "2NE1_zh.wikipedia.org_all-access_spider                   20.0        22.0   \n",
       "2PM_zh.wikipedia.org_all-access_spider                    30.0        52.0   \n",
       "3C_zh.wikipedia.org_all-access_spider                      4.0         6.0   \n",
       "4minute_zh.wikipedia.org_all-access_spider                11.0        17.0   \n",
       "52_Hz_I_Love_You_zh.wikipedia.org_all-access_sp...        11.0        27.0   \n",
       "\n",
       "                                                    2016-12-29  2016-12-30  \\\n",
       "Page                                                                         \n",
       "2NE1_zh.wikipedia.org_all-access_spider                   19.0        18.0   \n",
       "2PM_zh.wikipedia.org_all-access_spider                    45.0        26.0   \n",
       "3C_zh.wikipedia.org_all-access_spider                      3.0         4.0   \n",
       "4minute_zh.wikipedia.org_all-access_spider                19.0        10.0   \n",
       "52_Hz_I_Love_You_zh.wikipedia.org_all-access_sp...        13.0        36.0   \n",
       "\n",
       "                                                    2016-12-31  \n",
       "Page                                                            \n",
       "2NE1_zh.wikipedia.org_all-access_spider                   20.0  \n",
       "2PM_zh.wikipedia.org_all-access_spider                    20.0  \n",
       "3C_zh.wikipedia.org_all-access_spider                     17.0  \n",
       "4minute_zh.wikipedia.org_all-access_spider                11.0  \n",
       "52_Hz_I_Love_You_zh.wikipedia.org_all-access_sp...        10.0  \n",
       "\n",
       "[5 rows x 550 columns]"
      ]
     },
     "execution_count": 22,
     "metadata": {},
     "output_type": "execute_result"
    }
   ],
   "source": [
    "import pandas as pd\n",
    "\n",
    "df = pd.read_csv('../../input/train_1.csv',index_col=\"Page\")\n",
    "df.head()"
   ]
  },
  {
   "cell_type": "code",
   "execution_count": 23,
   "metadata": {
    "collapsed": false
   },
   "outputs": [],
   "source": [
    "df = df.mean(axis=1)"
   ]
  },
  {
   "cell_type": "code",
   "execution_count": 77,
   "metadata": {
    "collapsed": true
   },
   "outputs": [],
   "source": [
    "df.index = df.index.str.lower()"
   ]
  },
  {
   "cell_type": "code",
   "execution_count": 78,
   "metadata": {
    "collapsed": false
   },
   "outputs": [
    {
     "data": {
      "text/plain": [
       "Page\n",
       "2ne1_zh.wikipedia.org_all-access_spider                21.756364\n",
       "2pm_zh.wikipedia.org_all-access_spider                 25.392727\n",
       "3c_zh.wikipedia.org_all-access_spider                   5.203636\n",
       "4minute_zh.wikipedia.org_all-access_spider             17.125455\n",
       "52_hz_i_love_you_zh.wikipedia.org_all-access_spider    10.277992\n",
       "dtype: float64"
      ]
     },
     "execution_count": 78,
     "metadata": {},
     "output_type": "execute_result"
    }
   ],
   "source": [
    "df.head()"
   ]
  },
  {
   "cell_type": "markdown",
   "metadata": {},
   "source": [
    "# distribution within languagues"
   ]
  },
  {
   "cell_type": "code",
   "execution_count": 79,
   "metadata": {
    "collapsed": false
   },
   "outputs": [],
   "source": [
    "%matplotlib inline\n",
    "import numpy as np\n",
    "import matplotlib.pylab as plt\n",
    "\n",
    "def plotdist(lang):\n",
    "    string = lang+\".wikipedia.org\"\n",
    "    tmp = df[df.index.str.contains(string)].map(np.log1p)\n",
    "    plt.subplot(3,1,1)\n",
    "    tmp.plot(kind='hist',bins=100)\n",
    "    plt.xlim(0,15)\n",
    "    plt.subplot(3,1,2)\n",
    "    tmp[tmp.index.str.contains(\"_all-agents\")].plot(kind='hist',bins=100)\n",
    "    plt.xlim(0,15)\n",
    "    plt.subplot(3,1,3)\n",
    "    tmp[tmp.index.str.contains(\"_spider\")].plot(kind='hist',bins=100)\n",
    "    plt.xlim(0,15)\n",
    "    plt.tight_layout()\n",
    "    return plt"
   ]
  },
  {
   "cell_type": "markdown",
   "metadata": {},
   "source": [
    "## English"
   ]
  },
  {
   "cell_type": "code",
   "execution_count": 80,
   "metadata": {
    "collapsed": false
   },
   "outputs": [
    {
     "data": {
      "text/plain": [
       "<module 'matplotlib.pylab' from '/Users/guoli/anaconda2/lib/python2.7/site-packages/matplotlib/pylab.pyc'>"
      ]
     },
     "execution_count": 80,
     "metadata": {},
     "output_type": "execute_result"
    },
    {
     "data": {
      "image/png": "[encoded data removed]",
      "text/plain": [
       "<matplotlib.figure.Figure at 0x115a88f50>"
      ]
     },
     "metadata": {},
     "output_type": "display_data"
    }
   ],
   "source": [
    "plotdist(\"en\")"
   ]
  },
  {
   "cell_type": "markdown",
   "metadata": {},
   "source": [
    "## chinese"
   ]
  },
  {
   "cell_type": "code",
   "execution_count": 81,
   "metadata": {
    "collapsed": false
   },
   "outputs": [
    {
     "data": {
      "text/plain": [
       "<module 'matplotlib.pylab' from '/Users/guoli/anaconda2/lib/python2.7/site-packages/matplotlib/pylab.pyc'>"
      ]
     },
     "execution_count": 81,
     "metadata": {},
     "output_type": "execute_result"
    },
    {
     "data": {
      "image/png": "[encoded data removed]",
      "text/plain": [
       "<matplotlib.figure.Figure at 0x112edff90>"
      ]
     },
     "metadata": {},
     "output_type": "display_data"
    }
   ],
   "source": [
    "plotdist(\"zh\")"
   ]
  },
  {
   "cell_type": "markdown",
   "metadata": {},
   "source": [
    "## spanish"
   ]
  },
  {
   "cell_type": "code",
   "execution_count": 82,
   "metadata": {
    "collapsed": false
   },
   "outputs": [
    {
     "data": {
      "text/plain": [
       "<module 'matplotlib.pylab' from '/Users/guoli/anaconda2/lib/python2.7/site-packages/matplotlib/pylab.pyc'>"
      ]
     },
     "execution_count": 82,
     "metadata": {},
     "output_type": "execute_result"
    },
    {
     "data": {
      "image/png": "[encoded data removed]",
      "text/plain": [
       "<matplotlib.figure.Figure at 0x119a84e90>"
      ]
     },
     "metadata": {},
     "output_type": "display_data"
    }
   ],
   "source": [
    "plotdist(\"es\")"
   ]
  },
  {
   "cell_type": "markdown",
   "metadata": {},
   "source": [
    "### French"
   ]
  },
  {
   "cell_type": "code",
   "execution_count": 83,
   "metadata": {
    "collapsed": false
   },
   "outputs": [
    {
     "data": {
      "text/plain": [
       "<module 'matplotlib.pylab' from '/Users/guoli/anaconda2/lib/python2.7/site-packages/matplotlib/pylab.pyc'>"
      ]
     },
     "execution_count": 83,
     "metadata": {},
     "output_type": "execute_result"
    },
    {
     "data": {
      "image/png": "[encoded data removed]",
      "text/plain": [
       "<matplotlib.figure.Figure at 0x115d08b90>"
      ]
     },
     "metadata": {},
     "output_type": "display_data"
    }
   ],
   "source": [
    "plotdist(\"fr\")"
   ]
  },
  {
   "cell_type": "markdown",
   "metadata": {},
   "source": [
    "## RUSSIAN"
   ]
  },
  {
   "cell_type": "code",
   "execution_count": 84,
   "metadata": {
    "collapsed": false
   },
   "outputs": [
    {
     "data": {
      "text/plain": [
       "<module 'matplotlib.pylab' from '/Users/guoli/anaconda2/lib/python2.7/site-packages/matplotlib/pylab.pyc'>"
      ]
     },
     "execution_count": 84,
     "metadata": {},
     "output_type": "execute_result"
    },
    {
     "data": {
      "image/png": "[encoded data removed]",
      "text/plain": [
       "<matplotlib.figure.Figure at 0x117963190>"
      ]
     },
     "metadata": {},
     "output_type": "display_data"
    }
   ],
   "source": [
    "plotdist(\"ru\")"
   ]
  },
  {
   "cell_type": "markdown",
   "metadata": {},
   "source": [
    "## japanese"
   ]
  },
  {
   "cell_type": "code",
   "execution_count": 85,
   "metadata": {
    "collapsed": false
   },
   "outputs": [
    {
     "data": {
      "text/plain": [
       "<module 'matplotlib.pylab' from '/Users/guoli/anaconda2/lib/python2.7/site-packages/matplotlib/pylab.pyc'>"
      ]
     },
     "execution_count": 85,
     "metadata": {},
     "output_type": "execute_result"
    },
    {
     "data": {
      "image/png": "[encoded data removed]",
      "text/plain": [
       "<matplotlib.figure.Figure at 0x115249a50>"
      ]
     },
     "metadata": {},
     "output_type": "display_data"
    }
   ],
   "source": [
    "plotdist(\"ja\")"
   ]
  },
  {
   "cell_type": "markdown",
   "metadata": {},
   "source": [
    "## German"
   ]
  },
  {
   "cell_type": "code",
   "execution_count": 68,
   "metadata": {
    "collapsed": false
   },
   "outputs": [
    {
     "data": {
      "text/plain": [
       "<module 'matplotlib.pylab' from '/Users/guoli/anaconda2/lib/python2.7/site-packages/matplotlib/pylab.pyc'>"
      ]
     },
     "execution_count": 68,
     "metadata": {},
     "output_type": "execute_result"
    },
    {
     "data": {
      "image/png": "[encoded data removed]",
      "text/plain": [
       "<matplotlib.figure.Figure at 0x11548f2d0>"
      ]
     },
     "metadata": {},
     "output_type": "display_data"
    }
   ],
   "source": [
    "plotdist(\"de\")"
   ]
  },
  {
   "cell_type": "markdown",
   "metadata": {},
   "source": [
    "## media"
   ]
  },
  {
   "cell_type": "code",
   "execution_count": 97,
   "metadata": {
    "collapsed": true
   },
   "outputs": [],
   "source": [
    "def plotdist2(tag):\n",
    "    string = tag+\".org_\"\n",
    "    tmp = df[df.index.str.contains(string)].map(np.log1p)\n",
    "    plt.subplot(3,1,1)\n",
    "    tmp.plot(kind='hist',bins=100)\n",
    "    plt.xlim(0,15)\n",
    "    plt.legend()\n",
    "    \n",
    "    plt.subplot(3,1,2)\n",
    "    tmp[tmp.index.str.contains(\"_all-agents\")].plot(kind='hist',bins=100,label=\"all\")\n",
    "    plt.xlim(0,15)\n",
    "    plt.legend()\n",
    "    \n",
    "    plt.subplot(3,1,3)\n",
    "    tmp[tmp.index.str.contains(\"_spider\")].plot(kind='hist',bins=100,label=\"spider\")\n",
    "    plt.xlim(0,15)\n",
    "    plt.tight_layout()\n",
    "    plt.legend()\n",
    "    return plt"
   ]
  },
  {
   "cell_type": "code",
   "execution_count": 98,
   "metadata": {
    "collapsed": false
   },
   "outputs": [
    {
     "data": {
      "text/plain": [
       "<module 'matplotlib.pylab' from '/Users/guoli/anaconda2/lib/python2.7/site-packages/matplotlib/pylab.pyc'>"
      ]
     },
     "execution_count": 98,
     "metadata": {},
     "output_type": "execute_result"
    },
    {
     "data": {
      "image/png": "[encoded data removed]",
      "text/plain": [
       "<matplotlib.figure.Figure at 0x11a9d7b50>"
      ]
     },
     "metadata": {},
     "output_type": "display_data"
    }
   ],
   "source": [
    "plotdist2(\"wikimedia\")"
   ]
  },
  {
   "cell_type": "code",
   "execution_count": 99,
   "metadata": {
    "collapsed": false
   },
   "outputs": [
    {
     "data": {
      "text/plain": [
       "<module 'matplotlib.pylab' from '/Users/guoli/anaconda2/lib/python2.7/site-packages/matplotlib/pylab.pyc'>"
      ]
     },
     "execution_count": 99,
     "metadata": {},
     "output_type": "execute_result"
    },
    {
     "data": {
      "image/png": "[encoded data removed]",
      "text/plain": [
       "<matplotlib.figure.Figure at 0x119b392d0>"
      ]
     },
     "metadata": {},
     "output_type": "display_data"
    }
   ],
   "source": [
    "plotdist2(\"mediawiki\")"
   ]
  },
  {
   "cell_type": "markdown",
   "metadata": {},
   "source": [
    "# multiple peaks"
   ]
  },
  {
   "cell_type": "markdown",
   "metadata": {},
   "source": [
    "### mediawiki"
   ]
  },
  {
   "cell_type": "code",
   "execution_count": 108,
   "metadata": {
    "collapsed": false
   },
   "outputs": [
    {
     "data": {
      "text/plain": [
       "5551"
      ]
     },
     "execution_count": 108,
     "metadata": {},
     "output_type": "execute_result"
    }
   ],
   "source": [
    "tmp = df[df.index.str.contains(\"mediawiki.org\")].map(np.log1p)\n",
    "tmp = tmp[tmp.index.str.contains(\"_all-agents\")]\n",
    "len(tmp)\n",
    "#     plt.subplot(3,1,1)\n",
    "#     tmp.plot(kind='hist',bins=100)\n",
    "#     plt.xlim(0,15)\n",
    "#     plt.legend()\n",
    "    \n",
    "#     plt.subplot(3,1,2)\n",
    "#     tmp[tmp.index.str.contains(\"_all-agents\")]"
   ]
  },
  {
   "cell_type": "code",
   "execution_count": 109,
   "metadata": {
    "collapsed": false
   },
   "outputs": [
    {
     "data": {
      "text/plain": [
       "Index([u'api:categoryinfo_www.mediawiki.org_all-access_all-agents',\n",
       "       u'api:client_code_www.mediawiki.org_all-access_all-agents',\n",
       "       u'extension:graph/demo/airports_www.mediawiki.org_all-access_all-agents',\n",
       "       u'extension:ms_sql_database_authentication_www.mediawiki.org_all-access_all-agents',\n",
       "       u'help:searching/he_www.mediawiki.org_all-access_all-agents',\n",
       "       u'l10n_www.mediawiki.org_all-access_all-agents',\n",
       "       u'localisation_checks_www.mediawiki.org_all-access_all-agents',\n",
       "       u'manual:rfc_www.mediawiki.org_all-access_all-agents',\n",
       "       u'project:support_desk/sections/miscellaneous_www.mediawiki.org_all-access_all-agents',\n",
       "       u'rl/mgu_www.mediawiki.org_all-access_all-agents',\n",
       "       ...\n",
       "       u'project:support_desk/sections/system_www.mediawiki.org_desktop_all-agents',\n",
       "       u'special:mylanguage/api:categoryinfo_www.mediawiki.org_desktop_all-agents',\n",
       "       u'special:mylanguage/extension:wikieditor_www.mediawiki.org_desktop_all-agents',\n",
       "       u'special:mylanguage/manual:faq_www.mediawiki.org_desktop_all-agents',\n",
       "       u'special:whatlinkshere/extension:recent_changes_www.mediawiki.org_desktop_all-agents',\n",
       "       u'talk:configuring_file_uploads_www.mediawiki.org_desktop_all-agents',\n",
       "       u'thread:project:support_desk/wanting_to_change_error_text/reply_www.mediawiki.org_desktop_all-agents',\n",
       "       u'user:chughakshay16/conventionextension_www.mediawiki.org_desktop_all-agents',\n",
       "       u'user:chughakshay16/gsocproposal(2012)_www.mediawiki.org_desktop_all-agents',\n",
       "       u'user_talk:ryan_lane/archive_www.mediawiki.org_desktop_all-agents'],\n",
       "      dtype='object', name=u'Page', length=1725)"
      ]
     },
     "execution_count": 109,
     "metadata": {},
     "output_type": "execute_result"
    }
   ],
   "source": [
    "tmp[tmp<=2].index"
   ]
  },
  {
   "cell_type": "code",
   "execution_count": 110,
   "metadata": {
    "collapsed": false
   },
   "outputs": [
    {
     "data": {
      "text/plain": [
       "Index([u'\"keep_me_logged_in\"_extended_to_one_year_www.mediawiki.org_all-access_all-agents',\n",
       "       u'2017_wikitext_editor_www.mediawiki.org_all-access_all-agents',\n",
       "       u'2017_wikitext_editor/feedback_www.mediawiki.org_all-access_all-agents',\n",
       "       u'api_www.mediawiki.org_all-access_all-agents',\n",
       "       u'api:account_creation_www.mediawiki.org_all-access_all-agents',\n",
       "       u'api:allimages_www.mediawiki.org_all-access_all-agents',\n",
       "       u'api:allpages_www.mediawiki.org_all-access_all-agents',\n",
       "       u'api:backlinks_www.mediawiki.org_all-access_all-agents',\n",
       "       u'api:data_formats_www.mediawiki.org_all-access_all-agents',\n",
       "       u'api:etiquette_www.mediawiki.org_all-access_all-agents',\n",
       "       ...\n",
       "       u'wikimedia_hackathon_bphc_www.mediawiki.org_desktop_all-agents',\n",
       "       u'wikimedia_product_www.mediawiki.org_desktop_all-agents',\n",
       "       u'wikimedia_research_www.mediawiki.org_desktop_all-agents',\n",
       "       u'wikimedia_research/showcase_www.mediawiki.org_desktop_all-agents',\n",
       "       u'zürich_hackathon_2014_www.mediawiki.org_desktop_all-agents',\n",
       "       u'help:contents_www.mediawiki.org_desktop_all-agents',\n",
       "       u'how_to_contribute_www.mediawiki.org_desktop_all-agents',\n",
       "       u'mediawiki_www.mediawiki.org_desktop_all-agents',\n",
       "       u'special:book_www.mediawiki.org_desktop_all-agents',\n",
       "       u'special:translate_www.mediawiki.org_desktop_all-agents'],\n",
       "      dtype='object', name=u'Page', length=3791)"
      ]
     },
     "execution_count": 110,
     "metadata": {},
     "output_type": "execute_result"
    }
   ],
   "source": [
    "tmp[tmp>2].index"
   ]
  },
  {
   "cell_type": "markdown",
   "metadata": {},
   "source": [
    "## English"
   ]
  },
  {
   "cell_type": "code",
   "execution_count": 111,
   "metadata": {
    "collapsed": true
   },
   "outputs": [],
   "source": [
    "string = \"en.wikipedia.org\"\n",
    "tmp = df[df.index.str.contains(string)].map(np.log1p)\n",
    "tmp = tmp[tmp.index.str.contains(\"_all-agents\")]"
   ]
  },
  {
   "cell_type": "code",
   "execution_count": 112,
   "metadata": {
    "collapsed": false
   },
   "outputs": [
    {
     "name": "stdout",
     "output_type": "stream",
     "text": [
      "19177\n"
     ]
    }
   ],
   "source": [
    "print len(tmp)"
   ]
  },
  {
   "cell_type": "code",
   "execution_count": 113,
   "metadata": {
    "collapsed": false
   },
   "outputs": [
    {
     "data": {
      "text/plain": [
       "Page\n",
       "!vote_en.wikipedia.org_desktop_all-agents                                            1.453384\n",
       "\"european_society_for_clinical_investigation\"_en.wikipedia.org_desktop_all-agents    0.968090\n",
       "almon_brown_strowger_en.wikipedia.org_desktop_all-agents                             3.489430\n",
       "american_fuzzy_lop_(fuzzer)_en.wikipedia.org_desktop_all-agents                      3.653777\n",
       "bavington_hall_en.wikipedia.org_desktop_all-agents                                   1.645988\n",
       "bre-x_en.wikipedia.org_desktop_all-agents                                            4.952184\n",
       "burnum_burnum_en.wikipedia.org_desktop_all-agents                                    3.100993\n",
       "cp_system_en.wikipedia.org_desktop_all-agents                                        4.553015\n",
       "calexico-mexicali_en.wikipedia.org_desktop_all-agents                                0.827283\n",
       "carl_zeiss_planar_50mm_f/0.7_en.wikipedia.org_desktop_all-agents                     4.051785\n",
       "critical_illness_polyneuropathy_en.wikipedia.org_desktop_all-agents                  3.977947\n",
       "crown-rump_length_en.wikipedia.org_desktop_all-agents                                4.738397\n",
       "discoveries_of_exoplanets_en.wikipedia.org_desktop_all-agents                        4.110695\n",
       "ed_roberts_(activist)_en.wikipedia.org_desktop_all-agents                            3.670299\n",
       "fab_melo_en.wikipedia.org_desktop_all-agents                                         4.872515\n",
       "fred_korematsu_en.wikipedia.org_desktop_all-agents                                   4.850210\n",
       "graham_taylor_en.wikipedia.org_desktop_all-agents                                    4.331379\n",
       "ida_lewis_(lighthouse_keeper)_en.wikipedia.org_desktop_all-agents                    3.110926\n",
       "joe_louis_vs._max_schmeling_en.wikipedia.org_desktop_all-agents                      4.635982\n",
       "joy_villa_en.wikipedia.org_desktop_all-agents                                        2.823433\n",
       "katia_and_maurice_krafft_en.wikipedia.org_desktop_all-agents                         4.675493\n",
       "lime_street_fire_en.wikipedia.org_desktop_all-agents                                 2.150493\n",
       "lincoln_logs_en.wikipedia.org_desktop_all-agents                                     4.976132\n",
       "marcel_petiot_en.wikipedia.org_desktop_all-agents                                    4.494807\n",
       "mary_ellen_wilson_en.wikipedia.org_desktop_all-agents                                4.082548\n",
       "mbabaram_language_en.wikipedia.org_desktop_all-agents                                2.572057\n",
       "miss_kobayashi's_dragon_maid_en.wikipedia.org_desktop_all-agents                     4.062094\n",
       "network_access_device_en.wikipedia.org_desktop_all-agents                            2.283866\n",
       "oroville_dam_en.wikipedia.org_desktop_all-agents                                     4.521275\n",
       "oscar_speech_en.wikipedia.org_desktop_all-agents                                     3.805490\n",
       "                                                                                       ...   \n",
       "yuan_chen_en.wikipedia.org_all-access_all-agents                                     1.862921\n",
       "yukio_kagayama_en.wikipedia.org_all-access_all-agents                                2.836523\n",
       "yundamindera_station_en.wikipedia.org_all-access_all-agents                          1.505173\n",
       "yung_wing_en.wikipedia.org_all-access_all-agents                                     3.900980\n",
       "yungpaw_ga_en.wikipedia.org_all-access_all-agents                                    1.155195\n",
       "yvonne_gancel_en.wikipedia.org_all-access_all-agents                                 1.075832\n",
       "yvonne_neuwirth_en.wikipedia.org_all-access_all-agents                               2.053264\n",
       "zf_4hp18_transmission_en.wikipedia.org_all-access_all-agents                         2.855634\n",
       "zach_wahls_en.wikipedia.org_all-access_all-agents                                    3.959739\n",
       "zakynthos_(person)_en.wikipedia.org_all-access_all-agents                            1.967332\n",
       "zamzama_park_en.wikipedia.org_all-access_all-agents                                  2.136094\n",
       "zanan-e_emruz_en.wikipedia.org_all-access_all-agents                                 1.831879\n",
       "zaratha_en.wikipedia.org_all-access_all-agents                                       1.358437\n",
       "zari_district_en.wikipedia.org_all-access_all-agents                                 2.013060\n",
       "zarka_(trope)_en.wikipedia.org_all-access_all-agents                                 2.059434\n",
       "zarqan,_razavi_khorasan_en.wikipedia.org_all-access_all-agents                       1.106651\n",
       "zavet_(disambiguation)_en.wikipedia.org_all-access_all-agents                        0.971167\n",
       "zeebo_inc._en.wikipedia.org_all-access_all-agents                                    2.646433\n",
       "zero_minus_ten_en.wikipedia.org_all-access_all-agents                                3.223737\n",
       "zeroth_law_en.wikipedia.org_all-access_all-agents                                    1.399866\n",
       "zgornji_lehen_na_pohorju_en.wikipedia.org_all-access_all-agents                      1.144560\n",
       "zhao_lin_en.wikipedia.org_all-access_all-agents                                      1.222117\n",
       "zhejiang_yueju_troupe_en.wikipedia.org_all-access_all-agents                         1.079325\n",
       "zheleznogorsk_airport_en.wikipedia.org_all-access_all-agents                         1.661715\n",
       "zhu_qingyuan_en.wikipedia.org_all-access_all-agents                                  1.130737\n",
       "zikanyrops_sparsa_en.wikipedia.org_all-access_all-agents                             1.047204\n",
       "zillur_rahman_john_en.wikipedia.org_all-access_all-agents                            2.188008\n",
       "zitadelle_en.wikipedia.org_all-access_all-agents                                     1.967138\n",
       "zovashen_(dzhannatlu),_ararat_en.wikipedia.org_all-access_all-agents                 1.352976\n",
       "zurich.minds_en.wikipedia.org_all-access_all-agents                                  2.211891\n",
       "dtype: float64"
      ]
     },
     "execution_count": 113,
     "metadata": {},
     "output_type": "execute_result"
    }
   ],
   "source": [
    "tmp[tmp<5]"
   ]
  },
  {
   "cell_type": "code",
   "execution_count": 114,
   "metadata": {
    "collapsed": false
   },
   "outputs": [
    {
     "data": {
      "text/plain": [
       "Page\n",
       "\"awaken,_my_love!\"_en.wikipedia.org_desktop_all-agents                                        8.549285\n",
       "\"weird_al\"_yankovic_en.wikipedia.org_desktop_all-agents                                       7.731761\n",
       "100_metres_en.wikipedia.org_desktop_all-agents                                                7.113226\n",
       "10_cloverfield_lane_en.wikipedia.org_desktop_all-agents                                       9.180459\n",
       "10_gigabit_ethernet_en.wikipedia.org_desktop_all-agents                                       6.897387\n",
       "13_hours:_the_secret_soldiers_of_benghazi_en.wikipedia.org_desktop_all-agents                 8.281850\n",
       "1551_en.wikipedia.org_desktop_all-agents                                                      5.725508\n",
       "1896_summer_olympics_en.wikipedia.org_desktop_all-agents                                      7.417812\n",
       "1918_flu_pandemic_en.wikipedia.org_desktop_all-agents                                         7.345466\n",
       "1923_san_pedro_maritime_strike_en.wikipedia.org_desktop_all-agents                            6.554658\n",
       "1936_summer_olympics_en.wikipedia.org_desktop_all-agents                                      7.089430\n",
       "1976_summer_olympics_en.wikipedia.org_desktop_all-agents                                      6.578529\n",
       "1980_summer_olympics_en.wikipedia.org_desktop_all-agents                                      6.585439\n",
       "1984_summer_olympics_en.wikipedia.org_desktop_all-agents                                      6.704354\n",
       "1989_(taylor_swift_album)_en.wikipedia.org_desktop_all-agents                                 7.944615\n",
       "1999_(prince_album)_en.wikipedia.org_desktop_all-agents                                       6.583377\n",
       "2000_summer_olympics_en.wikipedia.org_desktop_all-agents                                      7.039598\n",
       "2002_fifa_world_cup_en.wikipedia.org_desktop_all-agents                                       7.229761\n",
       "2003_invasion_of_iraq_en.wikipedia.org_desktop_all-agents                                     7.505652\n",
       "2007_tuberculosis_scare_en.wikipedia.org_desktop_all-agents                                   5.548567\n",
       "2008_summer_olympics_en.wikipedia.org_desktop_all-agents                                      7.393681\n",
       "2008_summer_olympics_medal_table_en.wikipedia.org_desktop_all-agents                          6.693188\n",
       "2012_benghazi_attack_en.wikipedia.org_desktop_all-agents                                      8.681225\n",
       "2012_summer_olympics_en.wikipedia.org_desktop_all-agents                                      7.929653\n",
       "2012_summer_olympics_medal_table_en.wikipedia.org_desktop_all-agents                          7.635880\n",
       "2014_fifa_world_cup_en.wikipedia.org_desktop_all-agents                                       8.216619\n",
       "2015_ncaa_men's_division_i_basketball_tournament_en.wikipedia.org_desktop_all-agents          6.567263\n",
       "2015_san_bernardino_attack_en.wikipedia.org_desktop_all-agents                                7.505029\n",
       "2015_in_film_en.wikipedia.org_desktop_all-agents                                              9.378134\n",
       "2016_asia_cup_en.wikipedia.org_desktop_all-agents                                             6.723198\n",
       "                                                                                                ...   \n",
       "thad_cochran_en.wikipedia.org_all-access_all-agents                                           5.545447\n",
       "the_death_cure_en.wikipedia.org_all-access_all-agents                                         8.592762\n",
       "the_lego_ninjago_movie_en.wikipedia.org_all-access_all-agents                                 6.594853\n",
       "the_mentalist_(season_3)_en.wikipedia.org_all-access_all-agents                               5.632020\n",
       "the_murder_at_the_vicarage_en.wikipedia.org_all-access_all-agents                             5.033144\n",
       "the_night_the_lights_went_out_in_georgia_en.wikipedia.org_all-access_all-agents               5.928205\n",
       "the_safety_dance_en.wikipedia.org_all-access_all-agents                                       6.100433\n",
       "the_woman_in_black_(2012_film)_en.wikipedia.org_all-access_all-agents                         7.437738\n",
       "theodore_tugboat_en.wikipedia.org_all-access_all-agents                                       5.055145\n",
       "thicker_than_water_(tv_series)_en.wikipedia.org_all-access_all-agents                         5.273694\n",
       "thomas_c._durant_en.wikipedia.org_all-access_all-agents                                       6.625542\n",
       "thomas_kuhn_en.wikipedia.org_all-access_all-agents                                            6.251771\n",
       "turritopsis_dohrnii_en.wikipedia.org_all-access_all-agents                                    7.387584\n",
       "typography_of_apple_inc._en.wikipedia.org_all-access_all-agents                               5.838944\n",
       "uranium-238_en.wikipedia.org_all-access_all-agents                                            6.383973\n",
       "uranium_ore_en.wikipedia.org_all-access_all-agents                                            5.252664\n",
       "varna_en.wikipedia.org_all-access_all-agents                                                  6.311015\n",
       "vemana_en.wikipedia.org_all-access_all-agents                                                 5.378153\n",
       "vientiane_en.wikipedia.org_all-access_all-agents                                              6.508612\n",
       "vir_das_en.wikipedia.org_all-access_all-agents                                                6.726813\n",
       "waste_electrical_and_electronic_equipment_directive_en.wikipedia.org_all-access_all-agents    5.743149\n",
       "wayside_(tv_series)_en.wikipedia.org_all-access_all-agents                                    5.087787\n",
       "west_indian_en.wikipedia.org_all-access_all-agents                                            5.672429\n",
       "westlake_high_school_(georgia)_en.wikipedia.org_all-access_all-agents                         5.107300\n",
       "white_torture_en.wikipedia.org_all-access_all-agents                                          5.817144\n",
       "wimax_en.wikipedia.org_all-access_all-agents                                                  6.905095\n",
       "wildcard_mask_en.wikipedia.org_all-access_all-agents                                          5.140855\n",
       "willis_mcgahee_en.wikipedia.org_all-access_all-agents                                         6.364334\n",
       "yoko_kanno_en.wikipedia.org_all-access_all-agents                                             6.190628\n",
       "yousef_erakat_en.wikipedia.org_all-access_all-agents                                          7.298701\n",
       "dtype: float64"
      ]
     },
     "execution_count": 114,
     "metadata": {},
     "output_type": "execute_result"
    }
   ],
   "source": [
    "tmp[tmp>5]"
   ]
  },
  {
   "cell_type": "code",
   "execution_count": 116,
   "metadata": {
    "collapsed": false
   },
   "outputs": [
    {
     "data": {
      "text/plain": [
       "Page\n",
       "2ne1_zh.wikipedia.org_all-access_spider                                                                21.756364\n",
       "2pm_zh.wikipedia.org_all-access_spider                                                                 25.392727\n",
       "3c_zh.wikipedia.org_all-access_spider                                                                   5.203636\n",
       "4minute_zh.wikipedia.org_all-access_spider                                                             17.125455\n",
       "52_hz_i_love_you_zh.wikipedia.org_all-access_spider                                                    10.277992\n",
       "5566_zh.wikipedia.org_all-access_spider                                                                16.412727\n",
       "91days_zh.wikipedia.org_all-access_spider                                                              19.691892\n",
       "a'n'd_zh.wikipedia.org_all-access_spider                                                               49.650909\n",
       "akb48_zh.wikipedia.org_all-access_spider                                                               35.007273\n",
       "ascii_zh.wikipedia.org_all-access_spider                                                               22.327273\n",
       "astro_zh.wikipedia.org_all-access_spider                                                               18.631985\n",
       "ahq_e-sports_club_zh.wikipedia.org_all-access_spider                                                   12.496364\n",
       "all_your_base_are_belong_to_us_zh.wikipedia.org_all-access_spider                                       4.774545\n",
       "alphago_zh.wikipedia.org_all-access_spider                                                             26.325444\n",
       "android_zh.wikipedia.org_all-access_spider                                                             41.345455\n",
       "angelababy_zh.wikipedia.org_all-access_spider                                                          29.152727\n",
       "apink_zh.wikipedia.org_all-access_spider                                                               38.878182\n",
       "apple_ii_zh.wikipedia.org_all-access_spider                                                             8.920000\n",
       "as_one_zh.wikipedia.org_all-access_spider                                                              23.641818\n",
       "b-project_zh.wikipedia.org_all-access_spider                                                           14.160804\n",
       "b1a4_zh.wikipedia.org_all-access_spider                                                                24.838182\n",
       "bdsm_zh.wikipedia.org_all-access_spider                                                                19.294545\n",
       "beast_zh.wikipedia.org_all-access_spider                                                               22.245455\n",
       "bigbang_zh.wikipedia.org_all-access_spider                                                             25.563636\n",
       "black_pink_zh.wikipedia.org_all-access_spider                                                          92.698925\n",
       "bleach_zh.wikipedia.org_all-access_spider                                                              16.676364\n",
       "btob_zh.wikipedia.org_all-access_spider                                                                40.725455\n",
       "beautiful_mind_zh.wikipedia.org_all-access_spider                                                      11.956607\n",
       "beyond_zh.wikipedia.org_all-access_spider                                                              21.720000\n",
       "big_zh.wikipedia.org_all-access_spider                                                                  8.736364\n",
       "                                                                                                         ...    \n",
       "sin_senos_sí_hay_paraíso_es.wikipedia.org_all-access_spider                                            36.658228\n",
       "anexo:medallero_de_los_juegos_olímpicos_de_río_de_janeiro_2016_es.wikipedia.org_all-access_spider     118.335570\n",
       "arrival_(película)_es.wikipedia.org_all-access_spider                                                   7.140940\n",
       "anexo:baloncesto_en_los_juegos_olímpicos_de_río_de_janeiro_2016_es.wikipedia.org_all-access_spider      4.340136\n",
       "hasta_que_te_conocí_(serie_de_televisión)_es.wikipedia.org_all-access_spider                           11.080000\n",
       "westworld_(serie_de_televisión)_es.wikipedia.org_all-access_spider                                     10.459677\n",
       "milénico_es.wikipedia.org_all-access_spider                                                            19.145299\n",
       "moonlight_(película)_es.wikipedia.org_all-access_spider                                                 2.565217\n",
       "sully_(película)_es.wikipedia.org_all-access_spider                                                     8.105263\n",
       "pulsaciones_(serie_de_televisión)_es.wikipedia.org_all-access_spider                                    3.272727\n",
       "2091_(serie_de_televisión)_es.wikipedia.org_all-access_spider                                          12.673077\n",
       "campeonato_sudamericano_de_fútbol_sub-20_de_2017_es.wikipedia.org_all-access_spider                    18.218750\n",
       "split_(película)_es.wikipedia.org_all-access_spider                                                     2.093750\n",
       "huracán_matthew_es.wikipedia.org_all-access_spider                                                     39.978495\n",
       "fences_(película)_es.wikipedia.org_all-access_spider                                                    4.267442\n",
       "logan_(película)_es.wikipedia.org_all-access_spider                                                     7.536585\n",
       "la_doña_(telenovela_de_2016)_es.wikipedia.org_all-access_spider                                        17.705882\n",
       "rts_(canal_de_televisión)_es.wikipedia.org_all-access_spider                                            4.054054\n",
       "la_ley_del_corazón_es.wikipedia.org_all-access_spider                                                  34.836364\n",
       "the_crown_(serie_de_televisión)_es.wikipedia.org_all-access_spider                                     18.946429\n",
       "drake_(músico)_es.wikipedia.org_all-access_spider                                                      12.203704\n",
       "skam_(serie_de_televisión)_es.wikipedia.org_all-access_spider                                          14.142857\n",
       "legión_(serie_de_televisión)_es.wikipedia.org_all-access_spider                                         6.800000\n",
       "doble_tentación_es.wikipedia.org_all-access_spider                                                     40.437500\n",
       "mi_adorable_maldición_es.wikipedia.org_all-access_spider                                                7.000000\n",
       "underworld_(serie_de_películas)_es.wikipedia.org_all-access_spider                                      9.333333\n",
       "resident_evil:_capítulo_final_es.wikipedia.org_all-access_spider                                             NaN\n",
       "enamorándome_de_ramón_es.wikipedia.org_all-access_spider                                                     NaN\n",
       "hasta_el_último_hombre_es.wikipedia.org_all-access_spider                                                    NaN\n",
       "francisco_el_matemático_(serie_de_televisión_de_2017)_es.wikipedia.org_all-access_spider                     NaN\n",
       "dtype: float64"
      ]
     },
     "execution_count": 116,
     "metadata": {},
     "output_type": "execute_result"
    }
   ],
   "source": [
    "df"
   ]
  },
  {
   "cell_type": "code",
   "execution_count": null,
   "metadata": {
    "collapsed": true
   },
   "outputs": [],
   "source": []
  }
 ],
 "metadata": {
  "kernelspec": {
   "display_name": "Python 2",
   "language": "python",
   "name": "python2"
  },
  "language_info": {
   "codemirror_mode": {
    "name": "ipython",
    "version": 2
   },
   "file_extension": ".py",
   "mimetype": "text/x-python",
   "name": "python",
   "nbconvert_exporter": "python",
   "pygments_lexer": "ipython2",
   "version": "2.7.13"
  }
 },
 "nbformat": 4,
 "nbformat_minor": 2
}
